{
  "nbformat": 4,
  "nbformat_minor": 0,
  "metadata": {
    "colab": {
      "provenance": [],
      "authorship_tag": "ABX9TyOjPa9zlH+lP17HUDi8fyr6",
      "include_colab_link": true
    },
    "kernelspec": {
      "name": "python3",
      "display_name": "Python 3"
    },
    "language_info": {
      "name": "python"
    }
  },
  "cells": [
    {
      "cell_type": "markdown",
      "metadata": {
        "id": "view-in-github",
        "colab_type": "text"
      },
      "source": [
        "<a href=\"https://colab.research.google.com/github/joao-vitor12/alarme-i9/blob/main/C%C3%B3digo_python_alarme.ipynb\" target=\"_parent\"><img src=\"https://colab.research.google.com/assets/colab-badge.svg\" alt=\"Open In Colab\"/></a>"
      ]
    },
    {
      "cell_type": "code",
      "execution_count": 6,
      "metadata": {
        "colab": {
          "base_uri": "https://localhost:8080/"
        },
        "id": "9EnBfPIxM8K8",
        "outputId": "2af5937d-cf24-4069-8637-9d63bb49877b"
      },
      "outputs": [
        {
          "output_type": "stream",
          "name": "stdout",
          "text": [
            "Trrrrrrrrrrrr! ALARME TOCOU!\n"
          ]
        }
      ],
      "source": [
        "import time, datetime, pytz, configparser\n",
        "\n",
        "alarme = configparser.ConfigParser()\n",
        "alarme.read('config.ini')\n",
        "\n",
        "def main():\n",
        "  mensagem_alarme = alarme.get('Alarme', 'mensagem')\n",
        "\n",
        "  horario_alarme = alarme.get('Alarme', 'horario')\n",
        "\n",
        "  data_alarme = datetime.datetime.strptime(alarme.get('Alarme', 'data'), '%d/%m/%Y').date()\n",
        "\n",
        "  while True:\n",
        "    agora = datetime.datetime.now(pytz.timezone('America/Sao_Paulo'))\n",
        "    if(data_alarme == agora.date() and horario_alarme == agora.strftime('%H:%M')):\n",
        "      print(mensagem_alarme)\n",
        "      break\n",
        "    elif((data_alarme < agora.date()) or (data_alarme == agora.date() and horario_alarme < agora.strftime('%H:%M'))):\n",
        "      print(\"O horário escolhido não é mais válido\")\n",
        "      break\n",
        "    else:\n",
        "      time.sleep(30)\n",
        "\n",
        "main()"
      ]
    }
  ]
}